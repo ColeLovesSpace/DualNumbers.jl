{
 "cells": [
  {
   "cell_type": "code",
   "execution_count": 3,
   "id": "respective-calendar",
   "metadata": {},
   "outputs": [
    {
     "name": "stderr",
     "output_type": "stream",
     "text": [
      "\u001b[32m\u001b[1m  Activating\u001b[22m\u001b[39m project at `~/Numerical Methods/DualNumbers.jl`\n"
     ]
    }
   ],
   "source": [
    "]activate ."
   ]
  },
  {
   "cell_type": "code",
   "execution_count": 4,
   "id": "parallel-policy",
   "metadata": {},
   "outputs": [
    {
     "name": "stderr",
     "output_type": "stream",
     "text": [
      "\u001b[32m\u001b[1m     Testing\u001b[22m\u001b[39m DualNumbers\n",
      "\u001b[32m\u001b[1m      Status\u001b[22m\u001b[39m `/tmp/jl_QGOL2b/Project.toml`\n",
      " \u001b[90m [2008ef51] \u001b[39mDualNumbers v0.1.0 `~/Numerical Methods/DualNumbers.jl`\n",
      " \u001b[90m [8dfed614] \u001b[39mTest `@stdlib/Test`\n",
      "\u001b[32m\u001b[1m      Status\u001b[22m\u001b[39m `/tmp/jl_QGOL2b/Manifest.toml`\n",
      " \u001b[90m [2008ef51] \u001b[39mDualNumbers v0.1.0 `~/Numerical Methods/DualNumbers.jl`\n",
      " \u001b[90m [2a0f44e3] \u001b[39mBase64 `@stdlib/Base64`\n",
      " \u001b[90m [b77e0a4c] \u001b[39mInteractiveUtils `@stdlib/InteractiveUtils`\n",
      " \u001b[90m [56ddb016] \u001b[39mLogging `@stdlib/Logging`\n",
      " \u001b[90m [d6f4376e] \u001b[39mMarkdown `@stdlib/Markdown`\n",
      " \u001b[90m [9a3f8284] \u001b[39mRandom `@stdlib/Random`\n",
      " \u001b[90m [ea8e919c] \u001b[39mSHA v0.7.0 `@stdlib/SHA`\n",
      " \u001b[90m [9e88b42a] \u001b[39mSerialization `@stdlib/Serialization`\n",
      " \u001b[90m [8dfed614] \u001b[39mTest `@stdlib/Test`\n",
      "\u001b[32m\u001b[1mPrecompiling\u001b[22m\u001b[39m project...\n",
      "\u001b[32m  ✓ \u001b[39mDualNumbers\n",
      "  1 dependency successfully precompiled in 1 seconds\n",
      "\u001b[32m\u001b[1m     Testing\u001b[22m\u001b[39m Running tests...\n",
      "\u001b[32m\u001b[1m     Testing\u001b[22m\u001b[39m DualNumbers tests passed \n"
     ]
    }
   ],
   "source": [
    "]test"
   ]
  },
  {
   "cell_type": "code",
   "execution_count": null,
   "id": "rough-hometown",
   "metadata": {},
   "outputs": [],
   "source": []
  }
 ],
 "metadata": {
  "kernelspec": {
   "display_name": "Julia 1.8.4",
   "language": "julia",
   "name": "julia-1.8"
  },
  "language_info": {
   "file_extension": ".jl",
   "mimetype": "application/julia",
   "name": "julia",
   "version": "1.8.4"
  }
 },
 "nbformat": 4,
 "nbformat_minor": 5
}
